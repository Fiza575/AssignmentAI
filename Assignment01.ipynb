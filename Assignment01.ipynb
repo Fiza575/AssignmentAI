{
 "cells": [
  {
   "cell_type": "markdown",
   "id": "32afe499",
   "metadata": {},
   "source": [
    "#### What is AI?\n",
    "\n",
    "Machines that think and learn like humans\n",
    "\n",
    "#### Three example of Narrow AI\n",
    "\n",
    "1. **ChatBot**\n",
    "2. **Keyboard prediction**\n",
    "3. **Face unlock in phone**\n",
    "\n",
    "#### Write a small list of AI applications in Healthcare.\n",
    "\n",
    "1. **Fitness Watches**\n",
    "2. **Booking Docter Appointment Online**\n",
    "3. **Virtual Health Assistant**\n",
    "4. **Diet and Nutrition App**\n",
    "5. **Blood and Suger Tracking App**\n",
    "\n",
    "#### Research one real-world problem where AI is helping today\n",
    "\n",
    "***The Problem:***\n",
    "\n",
    "Many people discover they have cancer too late, when it’s already in an advanced stage.\n",
    "Late diagnosis makes treatment harder and survival rates lower.\n",
    "\n",
    "\n",
    "***How AI Helps:***\n",
    "\n",
    "AI is used to analyze medical images (like X-rays, MRIs, and mammograms) faster and more accurately than humans in some cases.\n",
    "\n",
    "**For example**, in breast cancer, AI can detect tiny lumps or patterns in mammograms that doctors might miss.\n",
    " AI systems can also predict risk by looking at patient data and history.\n",
    "\n",
    "\n",
    "***Real-World Example:***\n",
    "\n",
    "Google Health and DeepMind (UK) developed an AI that detects breast cancer better than human radiologists in some studies.\n",
    "\n",
    "Hospitals in the US and Europe are already using similar tools to support doctors.\n",
    "\n",
    "\n",
    "***Benefit:***\n",
    "\n",
    "Faster diagnosis\n",
    "\n",
    "More accurate results\n",
    "\n",
    "Saves lives by catching cancer early"
   ]
  },
  {
   "cell_type": "markdown",
   "id": "5e408b64",
   "metadata": {},
   "source": []
  }
 ],
 "metadata": {
  "language_info": {
   "name": "python"
  }
 },
 "nbformat": 4,
 "nbformat_minor": 5
}
